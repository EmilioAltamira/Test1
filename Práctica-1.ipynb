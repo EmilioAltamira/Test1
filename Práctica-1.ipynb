{
 "cells": [
  {
   "cell_type": "markdown",
   "metadata": {},
   "source": [
    "# Autor"
   ]
  },
  {
   "cell_type": "markdown",
   "metadata": {},
   "source": [
    "**Emilio Altamira López**\n",
    "\n",
    "**GitHub: EmilioAltamira**\n",
    "\n",
    "**Asignatura: Herramientas Computacionales**\n",
    "\n",
    "___"
   ]
  },
  {
   "cell_type": "markdown",
   "metadata": {},
   "source": [
    "# Práctica 1: Jupyter Notebook\n"
   ]
  },
  {
   "cell_type": "markdown",
   "metadata": {},
   "source": [
    "# Índice\n"
   ]
  },
  {
   "cell_type": "markdown",
   "metadata": {},
   "source": [
    "\n",
    "* [1. Celdas.](#1.-Celdas)\n",
    "    * [1.1. Celdas de Código.](#1.1-Celdas-de-Código)\n",
    "    * [1.2. Celdas Markdown.](#1.2-Celdas-Markdown)\n",
    "    * [1.3. Celdas Raw.](#1.3-Celdas-Raw)\n",
    "* [2. Estilo de Fuente.](#2.-Estilo-de-Fuente)\n",
    "    * [2.1. Fuente Itálica.](#2.1-Fuente-Itálica)\n",
    "    * [2.2. Fuente Negrita.](#2.2-Fuente-Negrita)\n",
    "    * [2.3. Fuente Negrita e Itálica.](#2.3-Fuente-Negrita-e-Itálica)\n",
    "* [3. Enlaces.](#3.-Enlaces)\n",
    "    * [3.1. Enlace dentro del Notebook.](#3.1-Enlace-dentro-del-Notebook)\n",
    "    * [3.2. Enlace a un sitio Web.](#3.2-Enlace-a-un-Sitio-Web)\n",
    "    * [3.3. Enlace a una imagen Web.](#3.3-Enlace-a-una-imagen-Web)\n",
    "* [4. Ecuaciones.](#4.-Ecuaciones)\n",
    "    * [4.1. Ecuaciones tipo LaTeX.](#4.1-Ecuaciones-tipo-LaTeX)\n",
    "\n",
    "<a name=\"#Celdas\"></a>"
   ]
  },
  {
   "cell_type": "markdown",
   "metadata": {},
   "source": [
    "<a name=\"#Celdas\"></a>\n",
    "## 1. Celdas"
   ]
  },
  {
   "cell_type": "markdown",
   "metadata": {},
   "source": [
    "Las celdas en *Jupyter Notbook* tienen una parte de entrada y otra de salida. En el apartado de entrada se ingresa con el Lenguaje de programación todo lo que uno quiera que haga el programa. Esto estará determinado también por el tipo de celda. Existen de 4 tipos: De código, Markdown, Raw y de Encabezado.\n"
   ]
  },
  {
   "cell_type": "markdown",
   "metadata": {},
   "source": [
    "\n",
    "### 1.1 Celdas de Código"
   ]
  },
  {
   "cell_type": "markdown",
   "metadata": {},
   "source": [
    "*Jupyter Notebook* ejecutará estas celdas en *Python* de forma predeterminada, pero también puede ejecutar *JavaScript*, y *HTML*. Al ejecutarlas, la componente de entrada, aparecerá arriba de la componente de salida.\n",
    "\n",
    "Ejemplo:"
   ]
  },
  {
   "cell_type": "code",
   "execution_count": 11,
   "metadata": {},
   "outputs": [
    {
     "name": "stdout",
     "output_type": "stream",
     "text": [
      "¡Hola Mundo!\n"
     ]
    }
   ],
   "source": [
    "print (\"¡Hola Mundo!\")"
   ]
  },
  {
   "cell_type": "markdown",
   "metadata": {},
   "source": [
    "### 1.2 Celdas Markdown"
   ]
  },
  {
   "cell_type": "markdown",
   "metadata": {},
   "source": [
    "Estas celdas son las ideales para la escritura y dar formato a un texto. *Jupyter Notebook* tiene permite utilizar diferentes estilos utilizando caracteres especiales. Entre ellos están \n",
    "\n",
    "* Hashtag (#): Sirve para generar encabezados. \n",
    "* Backslash (\\): Anula el efecto de los otros carácteres especiales.\n",
    "* Asterisk (\\*): Sirve para el efecto de **Negritas** o *Itálicas*. También genera Saltos de página.\n",
    "\n"
   ]
  },
  {
   "cell_type": "markdown",
   "metadata": {},
   "source": [
    "### 1.3 Celdas Raw"
   ]
  },
  {
   "cell_type": "markdown",
   "metadata": {},
   "source": [
    "También conocidas como *\"Celdas sin formato\"*, todo lo que se escribe en la entrada de ellas, saldrá idéntico en la salida, no se pueden personalizar, sirven para ilustrar ejemplos de códigos, o mantenerlos guardados tal cual uno los hizo, pues el formato se conserva intacto.\n",
    "\n",
    "Ejemplo:"
   ]
  },
  {
   "cell_type": "raw",
   "metadata": {},
   "source": [
    "34 + 29"
   ]
  },
  {
   "cell_type": "markdown",
   "metadata": {},
   "source": [
    "La celda anterior, es de tipo Raw, por eso al insertar el comando no lo resolvió. Simplemente se conservó."
   ]
  },
  {
   "cell_type": "markdown",
   "metadata": {},
   "source": [
    "## 2. Estilo de Fuente"
   ]
  },
  {
   "cell_type": "markdown",
   "metadata": {},
   "source": [
    "Los estilos de fuente se refieren a los pequeños cambios en el diseño de una letra, normalmente se usan para resaltar algunas palabras clave o aspectos importantes de un texto."
   ]
  },
  {
   "cell_type": "markdown",
   "metadata": {},
   "source": [
    "### 2.1 Fuente Itálica"
   ]
  },
  {
   "cell_type": "markdown",
   "metadata": {},
   "source": [
    "Las itálicas son aquellas que tienen una leve inclinación a la derecha. Se escriben con un Asterisco (\\*) o con Guión bajo (\\_) a cada lado de lo que se quiera modificar. \n",
    "\n",
    "Ejemplo:"
   ]
  },
  {
   "cell_type": "markdown",
   "metadata": {},
   "source": [
    "<pre>\n",
    "*Itálicas usando asteriscos*\n",
    "</pre>\n",
    "\n",
    "*Itálicas usando asteriscos*"
   ]
  },
  {
   "cell_type": "markdown",
   "metadata": {},
   "source": [
    "<pre>\n",
    "_Itálicas usando guión bajo_\n",
    "</pre>\n",
    "\n",
    "_Itálicas usando guión bajo_"
   ]
  },
  {
   "cell_type": "markdown",
   "metadata": {},
   "source": [
    "### 2.2 Fuente Negrita"
   ]
  },
  {
   "cell_type": "markdown",
   "metadata": {},
   "source": [
    "Las negritas son aquellas que tiene trazos más gruesos. Se escriben con doble Asterisco (\\*) o con doble Guión bajo (\\_) a cada lado de lo que se quiera modificar. \n",
    "\n",
    "Ejemplo:"
   ]
  },
  {
   "cell_type": "markdown",
   "metadata": {},
   "source": [
    "<pre>\n",
    "**Negritas usando asteriscos**\n",
    "</pre>\n",
    "\n",
    "**Negritas usando asteriscos**"
   ]
  },
  {
   "cell_type": "markdown",
   "metadata": {},
   "source": [
    "<pre>\n",
    "__Negritas usando guión bajo__\n",
    "</pre>\n",
    "\n",
    "__Negritas usando guión bajo__"
   ]
  },
  {
   "cell_type": "markdown",
   "metadata": {},
   "source": [
    "### 2.3 Fuente Negrita e Itálica"
   ]
  },
  {
   "cell_type": "markdown",
   "metadata": {},
   "source": [
    "Como su nombre lo indica, es una mezcla entre las letras *Itálicas* y las letras **Negritas**. Se escriben con un triple Asterisco (\\*) o con triple guión bajo (\\_).\n",
    "\n",
    "Ejemplo:"
   ]
  },
  {
   "cell_type": "markdown",
   "metadata": {},
   "source": [
    "<pre>\n",
    "***Itálicas y Negritas usando asteriscos***\n",
    "</pre>\n",
    "\n",
    "***Itálicas y Negritas usando asteriscos***"
   ]
  },
  {
   "cell_type": "markdown",
   "metadata": {},
   "source": [
    "<pre>\n",
    "___Itálicas y Negritas usando asteriscos___\n",
    "</pre>\n",
    "\n",
    "___Itálicas y Negritas usando guión bajo___"
   ]
  },
  {
   "cell_type": "markdown",
   "metadata": {},
   "source": [
    "## 3. Enlaces"
   ]
  },
  {
   "cell_type": "markdown",
   "metadata": {},
   "source": [
    "Los Enlaces permiten conectar una parte notebook con diferentes lugares, por ejemplo: A otra parte del Notebook, o a un sitio Web.\n"
   ]
  },
  {
   "cell_type": "markdown",
   "metadata": {},
   "source": [
    "### 3.1 Enlace dentro del Notebook"
   ]
  },
  {
   "cell_type": "markdown",
   "metadata": {},
   "source": [
    "Utilizando las celdas de Encabezado. Se coloca entre corchetes la etiqueta de identificación para el enlace. Y entre paréntesis y utilizando el carácter hashtag y el nombre exactamente igual al de la celda de encabezado a la que se está vinculando con guiones entre cada palabra.\n",
    "\n"
   ]
  },
  {
   "cell_type": "markdown",
   "metadata": {},
   "source": [
    "<pre>\n",
    "[Da click para ir al inicio.](#Práctica-1:-Jupyter-Notebook)\n",
    "</pre>\n",
    "\n",
    "[Da click para ir al inicio.](#Práctica-1:-Jupyter-Notebook)"
   ]
  },
  {
   "cell_type": "markdown",
   "metadata": {},
   "source": [
    "### 3.2 Enlace a un Sitio Web"
   ]
  },
  {
   "cell_type": "markdown",
   "metadata": {},
   "source": [
    "Existen de dos tipos: \n",
    "\n",
    "*Enlaces Automáticos*: Para insertarlos, basta con escribir el link al sitio Web y ya será habilitado como hipervínculo. \n",
    "\n",
    "*Enlaces Estándar*: Toma una estructura igual al Enlace dentro del Notebook, entre corchetes se coloca la etiqueda de identificación para el enlace y después entre paréntesis se escribe el link al sitio Web. Si al final le agregas entre Comillas un texto, este aparecerá al poner el mouse sobre el enlace.\n",
    "\n",
    "Ejemplos:"
   ]
  },
  {
   "cell_type": "markdown",
   "metadata": {},
   "source": [
    "__Enlace Automático__\n",
    "\n",
    "http://www.encit.unam.mx/"
   ]
  },
  {
   "cell_type": "markdown",
   "metadata": {},
   "source": [
    "__Enlace Estándar__\n",
    "\n",
    "<pre>\n",
    "[Página Oficial de la Escuela Nacional de Ciencias de la Tierra](http://www.encit.unam.mx/ \"ENCIT\")\n",
    "</pre>\n",
    "\n",
    "[Página Oficial de la Escuela Nacional de Ciencias de la Tierra](http://www.encit.unam.mx/ \"ENCIT\")"
   ]
  },
  {
   "cell_type": "markdown",
   "metadata": {},
   "source": [
    "### 3.3 Enlace a una imagen Web"
   ]
  },
  {
   "cell_type": "markdown",
   "metadata": {},
   "source": [
    "Se insertan igual que los otros tipos de enlace. Solo hay que agregar un \" ! \" al inicio.\n",
    "\n",
    "Ejemplo:"
   ]
  },
  {
   "cell_type": "markdown",
   "metadata": {},
   "source": [
    "<pre>\n",
    "![Globos Terráqueos](http://www.encit.unam.mx/sites/default/files/2020-09/foto_geografia.jpg)\n",
    "</pre>"
   ]
  },
  {
   "cell_type": "markdown",
   "metadata": {},
   "source": [
    "![Globos Terráqueos](http://www.encit.unam.mx/sites/default/files/2020-09/foto_geografia.jpg)"
   ]
  },
  {
   "cell_type": "markdown",
   "metadata": {},
   "source": [
    "## 4. Ecuaciones"
   ]
  },
  {
   "cell_type": "markdown",
   "metadata": {},
   "source": [
    "### 4.1 Ecuaciones tipo LaTeX"
   ]
  },
  {
   "cell_type": "markdown",
   "metadata": {},
   "source": [
    "*Jupyter Notebook* utilizando Python permite usar LaTeX para insertar ecuaciones matemáticas. Para hacerlo, hay que rodear la ecuación o fórmula con el símbolo Peso \" $ \".\n",
    "\n",
    "Ejemplo:"
   ]
  },
  {
   "cell_type": "markdown",
   "metadata": {},
   "source": [
    "<pre>\n",
    "$\\displaystyle \\sum_{k=1}^{n} k = \\dfrac{n(n+1)}{2}$.\n",
    "</pre>"
   ]
  },
  {
   "cell_type": "markdown",
   "metadata": {},
   "source": [
    "$$\\displaystyle \\sum_{k=1}^{n} k = \\dfrac{n(n+1)}{2}$$."
   ]
  },
  {
   "cell_type": "markdown",
   "metadata": {},
   "source": [
    " _____\n",
    " *Elaboró*: Emilio Altamira López\n"
   ]
  }
 ],
 "metadata": {
  "kernelspec": {
   "display_name": "Python 3",
   "language": "python",
   "name": "python3"
  },
  "language_info": {
   "codemirror_mode": {
    "name": "ipython",
    "version": 3
   },
   "file_extension": ".py",
   "mimetype": "text/x-python",
   "name": "python",
   "nbconvert_exporter": "python",
   "pygments_lexer": "ipython3",
   "version": "3.8.3"
  }
 },
 "nbformat": 4,
 "nbformat_minor": 4
}
